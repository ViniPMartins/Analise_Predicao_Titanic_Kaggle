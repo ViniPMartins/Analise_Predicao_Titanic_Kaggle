{
  "nbformat": 4,
  "nbformat_minor": 0,
  "metadata": {
    "colab": {
      "name": "DataMIning.ipynb",
      "provenance": [],
      "collapsed_sections": [],
      "toc_visible": true
    },
    "kernelspec": {
      "name": "python3",
      "display_name": "Python 3"
    }
  },
  "cells": [
    {
      "cell_type": "markdown",
      "metadata": {
        "id": "qS5xzi5JAZoa",
        "colab_type": "text"
      },
      "source": [
        "### Importando e Lendo os dados"
      ]
    },
    {
      "cell_type": "code",
      "metadata": {
        "id": "hYMDgrcGxOa8",
        "colab_type": "code",
        "colab": {
          "base_uri": "https://localhost:8080/",
          "height": 286
        },
        "outputId": "cdea5500-c4e5-4e1c-d0fd-e30583d087dc"
      },
      "source": [
        "!wget \"https://storage.googleapis.com/kaggle-competitions-data/kaggle-v2/3136/26502/bundle/archive.zip?GoogleAccessId=web-data@kaggle-161607.iam.gserviceaccount.com&Expires=1594341752&Signature=jTkezbZilN3taAd4NWDwyYb%2BYVRSabElF9YW%2BwYgL0fiN8Y8ckc3%2BEmrHr%2BJNKF0pKWjnkD7gGUO%2FnAlm5hKuHcpkCEXwpVgPeujFOI53vcGvX7qFSxgbhwPkvuQpnI2jM2sNC5OgOpCqPUi%2B1yQhuzLSA5obDx0Bh%2BO3UKit9WYQJP%2FBtmW5QL%2FOCWZtuXIO64h7oAT5R7cJvXPEpFr9cW7VzoV%2B%2Bw2y2ffOXGXAdblZirQ9oKljXVj7mG4d5uokhMKCCgbT9JiUeopsBdXsBg6%2FUaOmtwM7%2FjC8sePeHsc9oBMPrwWuLYD%2Fm3jj%2BW%2F0P3oy3pMWs%2Fqjbnc9fnwOQ%3D%3D&response-content-disposition=attachment%3B+filename%3Dtitanic.zip\""
      ],
      "execution_count": 10,
      "outputs": [
        {
          "output_type": "stream",
          "text": [
            "The name is too long, 525 chars total.\n",
            "Trying to shorten...\n",
            "New name is archive.zip?GoogleAccessId=web-data@kaggle-161607.iam.gserviceaccount.com&Expires=1594341752&Signature=jTkezbZilN3taAd4NWDwyYb+YVRSabElF9YW+wYgL0fiN8Y8ckc3+EmrHr+JNKF0pKWjnkD7gGUO%2FnAlm5hKuHcpkCEXwpVgPeujFOI53vcGvX7qFSxgbhwPkvuQpnI2jM2.\n",
            "--2020-07-07 00:44:38--  https://storage.googleapis.com/kaggle-competitions-data/kaggle-v2/3136/26502/bundle/archive.zip?GoogleAccessId=web-data@kaggle-161607.iam.gserviceaccount.com&Expires=1594341752&Signature=jTkezbZilN3taAd4NWDwyYb%2BYVRSabElF9YW%2BwYgL0fiN8Y8ckc3%2BEmrHr%2BJNKF0pKWjnkD7gGUO%2FnAlm5hKuHcpkCEXwpVgPeujFOI53vcGvX7qFSxgbhwPkvuQpnI2jM2sNC5OgOpCqPUi%2B1yQhuzLSA5obDx0Bh%2BO3UKit9WYQJP%2FBtmW5QL%2FOCWZtuXIO64h7oAT5R7cJvXPEpFr9cW7VzoV%2B%2Bw2y2ffOXGXAdblZirQ9oKljXVj7mG4d5uokhMKCCgbT9JiUeopsBdXsBg6%2FUaOmtwM7%2FjC8sePeHsc9oBMPrwWuLYD%2Fm3jj%2BW%2F0P3oy3pMWs%2Fqjbnc9fnwOQ%3D%3D&response-content-disposition=attachment%3B+filename%3Dtitanic.zip\n",
            "Resolving storage.googleapis.com (storage.googleapis.com)... 64.233.189.128, 108.177.125.128, 74.125.203.128, ...\n",
            "Connecting to storage.googleapis.com (storage.googleapis.com)|64.233.189.128|:443... connected.\n",
            "HTTP request sent, awaiting response... 200 OK\n",
            "Length: 34877 (34K) [application/zip]\n",
            "Saving to: ‘archive.zip?GoogleAccessId=web-data@kaggle-161607.iam.gserviceaccount.com&Expires=1594341752&Signature=jTkezbZilN3taAd4NWDwyYb+YVRSabElF9YW+wYgL0fiN8Y8ckc3+EmrHr+JNKF0pKWjnkD7gGUO%2FnAlm5hKuHcpkCEXwpVgPeujFOI53vcGvX7qFSxgbhwPkvuQpnI2jM2’\n",
            "\n",
            "\r          archive.z   0%[                    ]       0  --.-KB/s               \rarchive.zip?GoogleA 100%[===================>]  34.06K  --.-KB/s    in 0s      \n",
            "\n",
            "2020-07-07 00:44:38 (126 MB/s) - ‘archive.zip?GoogleAccessId=web-data@kaggle-161607.iam.gserviceaccount.com&Expires=1594341752&Signature=jTkezbZilN3taAd4NWDwyYb+YVRSabElF9YW+wYgL0fiN8Y8ckc3+EmrHr+JNKF0pKWjnkD7gGUO%2FnAlm5hKuHcpkCEXwpVgPeujFOI53vcGvX7qFSxgbhwPkvuQpnI2jM2’ saved [34877/34877]\n",
            "\n"
          ],
          "name": "stdout"
        }
      ]
    },
    {
      "cell_type": "code",
      "metadata": {
        "id": "la60w7Oautym",
        "colab_type": "code",
        "colab": {
          "base_uri": "https://localhost:8080/",
          "height": 108
        },
        "outputId": "4a4adf75-2df9-4fe7-ca8e-5c5bdd4521e8"
      },
      "source": [
        "!unzip 'archive.zip?GoogleAccessId=web-data@kaggle-161607.iam.gserviceaccount.com&Expires=1594341752&Signature=jTkezbZilN3taAd4NWDwyYb+YVRSabElF9YW+wYgL0fiN8Y8ckc3+EmrHr+JNKF0pKWjnkD7gGUO%2FnAlm5hKuHcpkCEXwpVgPeujFOI53vcGvX7qFSxgbhwPkvuQpnI2jM2'"
      ],
      "execution_count": 11,
      "outputs": [
        {
          "output_type": "stream",
          "text": [
            "Archive:  archive.zip?GoogleAccessId=web-data@kaggle-161607.iam.gserviceaccount.com&Expires=1594341752&Signature=jTkezbZilN3taAd4NWDwyYb+YVRSabElF9YW+wYgL0fiN8Y8ckc3+EmrHr+JNKF0pKWjnkD7gGUO%2FnAlm5hKuHcpkCEXwpVgPeujFOI53vcGvX7qFSxgbhwPkvuQpnI2jM2\n",
            "replace gender_submission.csv? [y]es, [n]o, [A]ll, [N]one, [r]ename: n\n",
            "replace test.csv? [y]es, [n]o, [A]ll, [N]one, [r]ename: n\n",
            "replace train.csv? [y]es, [n]o, [A]ll, [N]one, [r]ename: n\n"
          ],
          "name": "stdout"
        }
      ]
    },
    {
      "cell_type": "code",
      "metadata": {
        "id": "HrnWZ1guyr04",
        "colab_type": "code",
        "colab": {}
      },
      "source": [
        "import pandas  as pd\n",
        "import matplotlib.pyplot as plt\n",
        "import seaborn as sns"
      ],
      "execution_count": 12,
      "outputs": []
    },
    {
      "cell_type": "code",
      "metadata": {
        "id": "Em21LtblzDe4",
        "colab_type": "code",
        "colab": {
          "base_uri": "https://localhost:8080/",
          "height": 479
        },
        "outputId": "d9fd4823-2535-4e18-e6fc-e982753a31bf"
      },
      "source": [
        "df_train = pd.read_csv(\"train.csv\")\n",
        "df_train"
      ],
      "execution_count": 13,
      "outputs": [
        {
          "output_type": "execute_result",
          "data": {
            "text/html": [
              "<div>\n",
              "<style scoped>\n",
              "    .dataframe tbody tr th:only-of-type {\n",
              "        vertical-align: middle;\n",
              "    }\n",
              "\n",
              "    .dataframe tbody tr th {\n",
              "        vertical-align: top;\n",
              "    }\n",
              "\n",
              "    .dataframe thead th {\n",
              "        text-align: right;\n",
              "    }\n",
              "</style>\n",
              "<table border=\"1\" class=\"dataframe\">\n",
              "  <thead>\n",
              "    <tr style=\"text-align: right;\">\n",
              "      <th></th>\n",
              "      <th>PassengerId</th>\n",
              "      <th>Survived</th>\n",
              "      <th>Pclass</th>\n",
              "      <th>Name</th>\n",
              "      <th>Sex</th>\n",
              "      <th>Age</th>\n",
              "      <th>SibSp</th>\n",
              "      <th>Parch</th>\n",
              "      <th>Ticket</th>\n",
              "      <th>Fare</th>\n",
              "      <th>Cabin</th>\n",
              "      <th>Embarked</th>\n",
              "    </tr>\n",
              "  </thead>\n",
              "  <tbody>\n",
              "    <tr>\n",
              "      <th>0</th>\n",
              "      <td>1</td>\n",
              "      <td>0</td>\n",
              "      <td>3</td>\n",
              "      <td>Braund, Mr. Owen Harris</td>\n",
              "      <td>male</td>\n",
              "      <td>22.0</td>\n",
              "      <td>1</td>\n",
              "      <td>0</td>\n",
              "      <td>A/5 21171</td>\n",
              "      <td>7.2500</td>\n",
              "      <td>NaN</td>\n",
              "      <td>S</td>\n",
              "    </tr>\n",
              "    <tr>\n",
              "      <th>1</th>\n",
              "      <td>2</td>\n",
              "      <td>1</td>\n",
              "      <td>1</td>\n",
              "      <td>Cumings, Mrs. John Bradley (Florence Briggs Th...</td>\n",
              "      <td>female</td>\n",
              "      <td>38.0</td>\n",
              "      <td>1</td>\n",
              "      <td>0</td>\n",
              "      <td>PC 17599</td>\n",
              "      <td>71.2833</td>\n",
              "      <td>C85</td>\n",
              "      <td>C</td>\n",
              "    </tr>\n",
              "    <tr>\n",
              "      <th>2</th>\n",
              "      <td>3</td>\n",
              "      <td>1</td>\n",
              "      <td>3</td>\n",
              "      <td>Heikkinen, Miss. Laina</td>\n",
              "      <td>female</td>\n",
              "      <td>26.0</td>\n",
              "      <td>0</td>\n",
              "      <td>0</td>\n",
              "      <td>STON/O2. 3101282</td>\n",
              "      <td>7.9250</td>\n",
              "      <td>NaN</td>\n",
              "      <td>S</td>\n",
              "    </tr>\n",
              "    <tr>\n",
              "      <th>3</th>\n",
              "      <td>4</td>\n",
              "      <td>1</td>\n",
              "      <td>1</td>\n",
              "      <td>Futrelle, Mrs. Jacques Heath (Lily May Peel)</td>\n",
              "      <td>female</td>\n",
              "      <td>35.0</td>\n",
              "      <td>1</td>\n",
              "      <td>0</td>\n",
              "      <td>113803</td>\n",
              "      <td>53.1000</td>\n",
              "      <td>C123</td>\n",
              "      <td>S</td>\n",
              "    </tr>\n",
              "    <tr>\n",
              "      <th>4</th>\n",
              "      <td>5</td>\n",
              "      <td>0</td>\n",
              "      <td>3</td>\n",
              "      <td>Allen, Mr. William Henry</td>\n",
              "      <td>male</td>\n",
              "      <td>35.0</td>\n",
              "      <td>0</td>\n",
              "      <td>0</td>\n",
              "      <td>373450</td>\n",
              "      <td>8.0500</td>\n",
              "      <td>NaN</td>\n",
              "      <td>S</td>\n",
              "    </tr>\n",
              "    <tr>\n",
              "      <th>...</th>\n",
              "      <td>...</td>\n",
              "      <td>...</td>\n",
              "      <td>...</td>\n",
              "      <td>...</td>\n",
              "      <td>...</td>\n",
              "      <td>...</td>\n",
              "      <td>...</td>\n",
              "      <td>...</td>\n",
              "      <td>...</td>\n",
              "      <td>...</td>\n",
              "      <td>...</td>\n",
              "      <td>...</td>\n",
              "    </tr>\n",
              "    <tr>\n",
              "      <th>886</th>\n",
              "      <td>887</td>\n",
              "      <td>0</td>\n",
              "      <td>2</td>\n",
              "      <td>Montvila, Rev. Juozas</td>\n",
              "      <td>male</td>\n",
              "      <td>27.0</td>\n",
              "      <td>0</td>\n",
              "      <td>0</td>\n",
              "      <td>211536</td>\n",
              "      <td>13.0000</td>\n",
              "      <td>NaN</td>\n",
              "      <td>S</td>\n",
              "    </tr>\n",
              "    <tr>\n",
              "      <th>887</th>\n",
              "      <td>888</td>\n",
              "      <td>1</td>\n",
              "      <td>1</td>\n",
              "      <td>Graham, Miss. Margaret Edith</td>\n",
              "      <td>female</td>\n",
              "      <td>19.0</td>\n",
              "      <td>0</td>\n",
              "      <td>0</td>\n",
              "      <td>112053</td>\n",
              "      <td>30.0000</td>\n",
              "      <td>B42</td>\n",
              "      <td>S</td>\n",
              "    </tr>\n",
              "    <tr>\n",
              "      <th>888</th>\n",
              "      <td>889</td>\n",
              "      <td>0</td>\n",
              "      <td>3</td>\n",
              "      <td>Johnston, Miss. Catherine Helen \"Carrie\"</td>\n",
              "      <td>female</td>\n",
              "      <td>NaN</td>\n",
              "      <td>1</td>\n",
              "      <td>2</td>\n",
              "      <td>W./C. 6607</td>\n",
              "      <td>23.4500</td>\n",
              "      <td>NaN</td>\n",
              "      <td>S</td>\n",
              "    </tr>\n",
              "    <tr>\n",
              "      <th>889</th>\n",
              "      <td>890</td>\n",
              "      <td>1</td>\n",
              "      <td>1</td>\n",
              "      <td>Behr, Mr. Karl Howell</td>\n",
              "      <td>male</td>\n",
              "      <td>26.0</td>\n",
              "      <td>0</td>\n",
              "      <td>0</td>\n",
              "      <td>111369</td>\n",
              "      <td>30.0000</td>\n",
              "      <td>C148</td>\n",
              "      <td>C</td>\n",
              "    </tr>\n",
              "    <tr>\n",
              "      <th>890</th>\n",
              "      <td>891</td>\n",
              "      <td>0</td>\n",
              "      <td>3</td>\n",
              "      <td>Dooley, Mr. Patrick</td>\n",
              "      <td>male</td>\n",
              "      <td>32.0</td>\n",
              "      <td>0</td>\n",
              "      <td>0</td>\n",
              "      <td>370376</td>\n",
              "      <td>7.7500</td>\n",
              "      <td>NaN</td>\n",
              "      <td>Q</td>\n",
              "    </tr>\n",
              "  </tbody>\n",
              "</table>\n",
              "<p>891 rows × 12 columns</p>\n",
              "</div>"
            ],
            "text/plain": [
              "     PassengerId  Survived  Pclass  ...     Fare Cabin  Embarked\n",
              "0              1         0       3  ...   7.2500   NaN         S\n",
              "1              2         1       1  ...  71.2833   C85         C\n",
              "2              3         1       3  ...   7.9250   NaN         S\n",
              "3              4         1       1  ...  53.1000  C123         S\n",
              "4              5         0       3  ...   8.0500   NaN         S\n",
              "..           ...       ...     ...  ...      ...   ...       ...\n",
              "886          887         0       2  ...  13.0000   NaN         S\n",
              "887          888         1       1  ...  30.0000   B42         S\n",
              "888          889         0       3  ...  23.4500   NaN         S\n",
              "889          890         1       1  ...  30.0000  C148         C\n",
              "890          891         0       3  ...   7.7500   NaN         Q\n",
              "\n",
              "[891 rows x 12 columns]"
            ]
          },
          "metadata": {
            "tags": []
          },
          "execution_count": 13
        }
      ]
    },
    {
      "cell_type": "code",
      "metadata": {
        "id": "xjNtSeBpzZls",
        "colab_type": "code",
        "colab": {
          "base_uri": "https://localhost:8080/",
          "height": 291
        },
        "outputId": "2b98987b-646d-4d9e-9de6-a7a2d05e9f39"
      },
      "source": [
        "df_train.describe()"
      ],
      "execution_count": 14,
      "outputs": [
        {
          "output_type": "execute_result",
          "data": {
            "text/html": [
              "<div>\n",
              "<style scoped>\n",
              "    .dataframe tbody tr th:only-of-type {\n",
              "        vertical-align: middle;\n",
              "    }\n",
              "\n",
              "    .dataframe tbody tr th {\n",
              "        vertical-align: top;\n",
              "    }\n",
              "\n",
              "    .dataframe thead th {\n",
              "        text-align: right;\n",
              "    }\n",
              "</style>\n",
              "<table border=\"1\" class=\"dataframe\">\n",
              "  <thead>\n",
              "    <tr style=\"text-align: right;\">\n",
              "      <th></th>\n",
              "      <th>PassengerId</th>\n",
              "      <th>Survived</th>\n",
              "      <th>Pclass</th>\n",
              "      <th>Age</th>\n",
              "      <th>SibSp</th>\n",
              "      <th>Parch</th>\n",
              "      <th>Fare</th>\n",
              "    </tr>\n",
              "  </thead>\n",
              "  <tbody>\n",
              "    <tr>\n",
              "      <th>count</th>\n",
              "      <td>891.000000</td>\n",
              "      <td>891.000000</td>\n",
              "      <td>891.000000</td>\n",
              "      <td>714.000000</td>\n",
              "      <td>891.000000</td>\n",
              "      <td>891.000000</td>\n",
              "      <td>891.000000</td>\n",
              "    </tr>\n",
              "    <tr>\n",
              "      <th>mean</th>\n",
              "      <td>446.000000</td>\n",
              "      <td>0.383838</td>\n",
              "      <td>2.308642</td>\n",
              "      <td>29.699118</td>\n",
              "      <td>0.523008</td>\n",
              "      <td>0.381594</td>\n",
              "      <td>32.204208</td>\n",
              "    </tr>\n",
              "    <tr>\n",
              "      <th>std</th>\n",
              "      <td>257.353842</td>\n",
              "      <td>0.486592</td>\n",
              "      <td>0.836071</td>\n",
              "      <td>14.526497</td>\n",
              "      <td>1.102743</td>\n",
              "      <td>0.806057</td>\n",
              "      <td>49.693429</td>\n",
              "    </tr>\n",
              "    <tr>\n",
              "      <th>min</th>\n",
              "      <td>1.000000</td>\n",
              "      <td>0.000000</td>\n",
              "      <td>1.000000</td>\n",
              "      <td>0.420000</td>\n",
              "      <td>0.000000</td>\n",
              "      <td>0.000000</td>\n",
              "      <td>0.000000</td>\n",
              "    </tr>\n",
              "    <tr>\n",
              "      <th>25%</th>\n",
              "      <td>223.500000</td>\n",
              "      <td>0.000000</td>\n",
              "      <td>2.000000</td>\n",
              "      <td>20.125000</td>\n",
              "      <td>0.000000</td>\n",
              "      <td>0.000000</td>\n",
              "      <td>7.910400</td>\n",
              "    </tr>\n",
              "    <tr>\n",
              "      <th>50%</th>\n",
              "      <td>446.000000</td>\n",
              "      <td>0.000000</td>\n",
              "      <td>3.000000</td>\n",
              "      <td>28.000000</td>\n",
              "      <td>0.000000</td>\n",
              "      <td>0.000000</td>\n",
              "      <td>14.454200</td>\n",
              "    </tr>\n",
              "    <tr>\n",
              "      <th>75%</th>\n",
              "      <td>668.500000</td>\n",
              "      <td>1.000000</td>\n",
              "      <td>3.000000</td>\n",
              "      <td>38.000000</td>\n",
              "      <td>1.000000</td>\n",
              "      <td>0.000000</td>\n",
              "      <td>31.000000</td>\n",
              "    </tr>\n",
              "    <tr>\n",
              "      <th>max</th>\n",
              "      <td>891.000000</td>\n",
              "      <td>1.000000</td>\n",
              "      <td>3.000000</td>\n",
              "      <td>80.000000</td>\n",
              "      <td>8.000000</td>\n",
              "      <td>6.000000</td>\n",
              "      <td>512.329200</td>\n",
              "    </tr>\n",
              "  </tbody>\n",
              "</table>\n",
              "</div>"
            ],
            "text/plain": [
              "       PassengerId    Survived      Pclass  ...       SibSp       Parch        Fare\n",
              "count   891.000000  891.000000  891.000000  ...  891.000000  891.000000  891.000000\n",
              "mean    446.000000    0.383838    2.308642  ...    0.523008    0.381594   32.204208\n",
              "std     257.353842    0.486592    0.836071  ...    1.102743    0.806057   49.693429\n",
              "min       1.000000    0.000000    1.000000  ...    0.000000    0.000000    0.000000\n",
              "25%     223.500000    0.000000    2.000000  ...    0.000000    0.000000    7.910400\n",
              "50%     446.000000    0.000000    3.000000  ...    0.000000    0.000000   14.454200\n",
              "75%     668.500000    1.000000    3.000000  ...    1.000000    0.000000   31.000000\n",
              "max     891.000000    1.000000    3.000000  ...    8.000000    6.000000  512.329200\n",
              "\n",
              "[8 rows x 7 columns]"
            ]
          },
          "metadata": {
            "tags": []
          },
          "execution_count": 14
        }
      ]
    },
    {
      "cell_type": "markdown",
      "metadata": {
        "id": "9uDrqR9MAj--",
        "colab_type": "text"
      },
      "source": [
        "### Primeiras análises\n"
      ]
    },
    {
      "cell_type": "markdown",
      "metadata": {
        "id": "RvejNag7ArqY",
        "colab_type": "text"
      },
      "source": [
        "> A primeira análise é feita montando alguns gráficos abaixo, mostrando a quantidade de sobreviventes de acordo com algumas características. \n",
        "\n",
        "\n",
        "* É possivel observar que a quantidade de mulheres sobreviventes e expressivamente maior que o número de homens sobreviventes (gráfico 1).\n",
        "\n",
        "* Também é possivel observar uma maior quantidade de sobreviventes em pessoas que estavam na primeira classe, uma quantidade um pouco menor da segunda classe e por último, a terceira classe com o menor número de sobreviventes (gráfico 2).\n",
        "\n",
        "* Por fim, vemos a quantidade de sobreviventes por porto de embarque, que não \n",
        "será tão relevante para as próximas análises (gráfico 3).\n",
        "\n",
        "\n"
      ]
    },
    {
      "cell_type": "code",
      "metadata": {
        "id": "lLE1WVR8zquA",
        "colab_type": "code",
        "colab": {
          "base_uri": "https://localhost:8080/",
          "height": 301
        },
        "outputId": "713dd1de-2999-4825-e9d2-a33c63232555"
      },
      "source": [
        "sns.set(style=\"darkgrid\")\n",
        "def barplot(Df):\n",
        "    fig, (axis1, axis2, axis3) = plt.subplots(1,3,figsize=(12,4))\n",
        "\n",
        "    sns.barplot(x='Sex', y='Survived', data=Df, ax=axis1)\n",
        "    sns.barplot(x='Pclass', y='Survived', data=Df, ax=axis2)\n",
        "    sns.barplot(x='Embarked', y='Survived', data=Df, ax=axis3)\n",
        "\n",
        "    axis1.set_title('Gráfico 1')\n",
        "    axis2.set_title('Gráfico 2')\n",
        "    axis3.set_title('Gráfico 3')\n",
        "\n",
        "barplot(df_train)"
      ],
      "execution_count": 15,
      "outputs": [
        {
          "output_type": "display_data",
          "data": {
            "image/png": "[encoded data removed]",
            "text/plain": [
              "<Figure size 864x288 with 3 Axes>"
            ]
          },
          "metadata": {
            "tags": []
          }
        }
      ]
    },
    {
      "cell_type": "markdown",
      "metadata": {
        "id": "k6MpfEUdDuaf",
        "colab_type": "text"
      },
      "source": [
        "> Na próxima análise, pode-se observar a distribuição de sobreviventes ou não por faixas de idade.\n",
        "\n",
        "> Chama a atenção o pico no gráfico de sobreviventes entre as idades de 0 a 5 anos, indicando que as crianças foram colocadas como prioridade de sobreviventes."
      ]
    },
    {
      "cell_type": "code",
      "metadata": {
        "id": "cUe_SAFP2qye",
        "colab_type": "code",
        "colab": {
          "base_uri": "https://localhost:8080/",
          "height": 301
        },
        "outputId": "6a415c15-5f58-4a0b-e5a4-39dad061df71"
      },
      "source": [
        "def compBar(Df):\n",
        "    fig, (axis1, axis2) = plt.subplots(1,2, figsize=(12,4))\n",
        "    sns.distplot(Df.query(\"Survived==1\")['Age'], ax=axis1)\n",
        "    sns.distplot(Df.query(\"Survived==0\")['Age'], ax=axis2)\n",
        "    axis1.set_title('Pessoas sobreviventes')\n",
        "    axis2.set_title('Pessoas não sobreviventes')\n",
        "\n",
        "    plt.show()\n",
        "\n",
        "compBar(df_train)"
      ],
      "execution_count": 16,
      "outputs": [
        {
          "output_type": "display_data",
          "data": {
            "image/png": "[encoded data removed]",
            "text/plain": [
              "<Figure size 864x288 with 2 Axes>"
            ]
          },
          "metadata": {
            "tags": []
          }
        }
      ]
    },
    {
      "cell_type": "markdown",
      "metadata": {
        "id": "LRb3Um44FHaS",
        "colab_type": "text"
      },
      "source": [
        "> Abaixo está plotado uma série de gráficos, os quais podem ser extraídas diversas informações.\n",
        "\n",
        "> Uma informação bastante importante e complementar ao gráfico 2 da primeira análise é apresentada no gráfico de barras da terceira coluna e terceira linha.\n",
        "\n",
        "> Nele podemos ver que a quantidade de pessoas na terceira classe é maior em relação as outras duas classes. \n",
        "\n",
        "> Unindo a informação do gráfico 2 da primeira análise podemos observar como a quantidade de sobreviventes da terceira classe foi expressivamente baixa e como as pessoas que estavam em classes mais altas foram priorizadas na hora do salvamento."
      ]
    },
    {
      "cell_type": "code",
      "metadata": {
        "id": "b0Jzq7d6iIk2",
        "colab_type": "code",
        "colab": {
          "base_uri": "https://localhost:8080/",
          "height": 764
        },
        "outputId": "32d38a28-d8ab-4003-e71a-bcb7f8374353"
      },
      "source": [
        "columns = ['Parch', 'Fare', 'Pclass', 'Age']\n",
        "sns.pairplot(df_train[columns])"
      ],
      "execution_count": 17,
      "outputs": [
        {
          "output_type": "execute_result",
          "data": {
            "text/plain": [
              "<seaborn.axisgrid.PairGrid at 0x7f8b135ad438>"
            ]
          },
          "metadata": {
            "tags": []
          },
          "execution_count": 17
        },
        {
          "output_type": "display_data",
          "data": {
            "image/png": "[encoded data removed]",
            "text/plain": [
              "<Figure size 720x720 with 20 Axes>"
            ]
          },
          "metadata": {
            "tags": []
          }
        }
      ]
    },
    {
      "cell_type": "markdown",
      "metadata": {
        "id": "ZqOvvUaBHN2r",
        "colab_type": "text"
      },
      "source": [
        "Por fim, nesta primeira estapa da análise dos dados, está plotado abaixo uma matriz de correlação que confirma alguns insides obtidos anteriormente, como por exemplo:\n",
        "\n",
        "> A sobrevivência tem uma correlação negativa de -0.34 em relação classe, o que quer dizer que, quanto menor o número da classe (considerando que a primeira classe é representada por 1 e a terceira representada por 3), maior será a probabilidade de sobrevivência."
      ]
    },
    {
      "cell_type": "code",
      "metadata": {
        "id": "Mth9hPMv8RSm",
        "colab_type": "code",
        "colab": {
          "base_uri": "https://localhost:8080/",
          "height": 383
        },
        "outputId": "09dac1d0-d50d-4f32-c5fc-7a12b8cbf636"
      },
      "source": [
        "def correlacao(Df):\n",
        "    fig, axis1 = plt.subplots(1,1, figsize=(20,5))\n",
        "    sns.heatmap(Df.corr(), cmap='coolwarm', fmt='.2f', linewidths=0.1, vmax=1.0, square='true', linecolor='white', annot=True)\n",
        "    plt.show()\n",
        "\n",
        "correlacao(df_train)"
      ],
      "execution_count": 18,
      "outputs": [
        {
          "output_type": "display_data",
          "data": {
            "image/png": "[encoded data removed]",
            "text/plain": [
              "<Figure size 1440x360 with 2 Axes>"
            ]
          },
          "metadata": {
            "tags": []
          }
        }
      ]
    },
    {
      "cell_type": "markdown",
      "metadata": {
        "id": "NGof1J_yJdKC",
        "colab_type": "text"
      },
      "source": [
        "### Limpeza dos dados\n",
        "\n",
        "> Feita as primeiras análise, agora é realizada a limpeza dos dados removendo alguns outliers identificados, como mostrado nos gráficos abaixo, afim de se ter uma melhor uniformidade dos dados para os modelos de Machine Learnig."
      ]
    },
    {
      "cell_type": "code",
      "metadata": {
        "id": "YgYPeedhTad8",
        "colab_type": "code",
        "colab": {
          "base_uri": "https://localhost:8080/",
          "height": 70
        },
        "outputId": "de6a4779-629f-4254-c37f-594aecb7ef2e"
      },
      "source": [
        "df_train['Survived'].value_counts()"
      ],
      "execution_count": 19,
      "outputs": [
        {
          "output_type": "execute_result",
          "data": {
            "text/plain": [
              "0    549\n",
              "1    342\n",
              "Name: Survived, dtype: int64"
            ]
          },
          "metadata": {
            "tags": []
          },
          "execution_count": 19
        }
      ]
    },
    {
      "cell_type": "code",
      "metadata": {
        "id": "vQ7cu8EqG_sr",
        "colab_type": "code",
        "colab": {
          "base_uri": "https://localhost:8080/",
          "height": 301
        },
        "outputId": "9b726a20-be89-4ddd-9dc2-79f8ebe446de"
      },
      "source": [
        "#fig, (axis1, axis2) = plt.subplots()\n",
        "df_orig = df_train[['Survived', 'Fare']]\n",
        "df_orig = df_orig.round(0)\n",
        "df_sct = df_train[['Survived', 'Fare']]\n",
        "df_sct = df_sct.round(0)\n",
        "df_sct2 = df_sct.drop(df_sct.query(\"Fare>=300\").index)\n",
        "df_sct3 = df_sct2.drop(df_sct.query(\"Fare==8\").index)\n",
        "\n",
        "df_orig_plot = df_orig.groupby(['Fare']).sum()\n",
        "df_plot2 = df_sct2.groupby(['Fare']).sum()\n",
        "df_plot3 = df_sct3.groupby(['Fare']).sum()\n",
        "\n",
        "fig, (axis1, axis2, axis3) = plt.subplots(1,3, figsize=(16,4))\n",
        "\n",
        "sns.scatterplot(x=df_orig_plot.index, y=df_orig_plot['Survived'].values, ax=axis1)\n",
        "sns.scatterplot(x=df_plot2.index, y=df_plot2['Survived'].values, ax=axis2)\n",
        "sns.scatterplot(x=df_plot3.index, y=df_plot3['Survived'].values, ax=axis3)\n",
        "\n",
        "axis1.set(ylabel='Nº de Sobreviventes')\n",
        "axis1.set_title('Original')\n",
        "axis2.set_title('Eliminando 1 outlier')\n",
        "axis3.set_title('Eliminando todos outliers')\n",
        "plt.show()"
      ],
      "execution_count": 20,
      "outputs": [
        {
          "output_type": "display_data",
          "data": {
            "image/png": "[encoded data removed]",
            "text/plain": [
              "<Figure size 1152x288 with 3 Axes>"
            ]
          },
          "metadata": {
            "tags": []
          }
        }
      ]
    },
    {
      "cell_type": "code",
      "metadata": {
        "id": "6JZ-MKqzIsSI",
        "colab_type": "code",
        "colab": {
          "base_uri": "https://localhost:8080/",
          "height": 200
        },
        "outputId": "388e468f-668f-4efd-dc08-59c8c0a02e9b"
      },
      "source": [
        "#DataFrame salvando todos os outliers removidos\n",
        "\n",
        "df_teste = df_train.round(0)\n",
        "df_out1 = df_teste.query(\"Fare==8 and Survived==1\")\n",
        "df_out2 = df_teste.query(\"Fare>=300\")\n",
        "df_outliers = pd.concat([df_out1, df_out2])\n",
        "df_outliers.head()"
      ],
      "execution_count": 21,
      "outputs": [
        {
          "output_type": "execute_result",
          "data": {
            "text/html": [
              "<div>\n",
              "<style scoped>\n",
              "    .dataframe tbody tr th:only-of-type {\n",
              "        vertical-align: middle;\n",
              "    }\n",
              "\n",
              "    .dataframe tbody tr th {\n",
              "        vertical-align: top;\n",
              "    }\n",
              "\n",
              "    .dataframe thead th {\n",
              "        text-align: right;\n",
              "    }\n",
              "</style>\n",
              "<table border=\"1\" class=\"dataframe\">\n",
              "  <thead>\n",
              "    <tr style=\"text-align: right;\">\n",
              "      <th></th>\n",
              "      <th>PassengerId</th>\n",
              "      <th>Survived</th>\n",
              "      <th>Pclass</th>\n",
              "      <th>Name</th>\n",
              "      <th>Sex</th>\n",
              "      <th>Age</th>\n",
              "      <th>SibSp</th>\n",
              "      <th>Parch</th>\n",
              "      <th>Ticket</th>\n",
              "      <th>Fare</th>\n",
              "      <th>Cabin</th>\n",
              "      <th>Embarked</th>\n",
              "    </tr>\n",
              "  </thead>\n",
              "  <tbody>\n",
              "    <tr>\n",
              "      <th>2</th>\n",
              "      <td>3</td>\n",
              "      <td>1</td>\n",
              "      <td>3</td>\n",
              "      <td>Heikkinen, Miss. Laina</td>\n",
              "      <td>female</td>\n",
              "      <td>26.0</td>\n",
              "      <td>0</td>\n",
              "      <td>0</td>\n",
              "      <td>STON/O2. 3101282</td>\n",
              "      <td>8.0</td>\n",
              "      <td>NaN</td>\n",
              "      <td>S</td>\n",
              "    </tr>\n",
              "    <tr>\n",
              "      <th>22</th>\n",
              "      <td>23</td>\n",
              "      <td>1</td>\n",
              "      <td>3</td>\n",
              "      <td>McGowan, Miss. Anna \"Annie\"</td>\n",
              "      <td>female</td>\n",
              "      <td>15.0</td>\n",
              "      <td>0</td>\n",
              "      <td>0</td>\n",
              "      <td>330923</td>\n",
              "      <td>8.0</td>\n",
              "      <td>NaN</td>\n",
              "      <td>Q</td>\n",
              "    </tr>\n",
              "    <tr>\n",
              "      <th>28</th>\n",
              "      <td>29</td>\n",
              "      <td>1</td>\n",
              "      <td>3</td>\n",
              "      <td>O'Dwyer, Miss. Ellen \"Nellie\"</td>\n",
              "      <td>female</td>\n",
              "      <td>NaN</td>\n",
              "      <td>0</td>\n",
              "      <td>0</td>\n",
              "      <td>330959</td>\n",
              "      <td>8.0</td>\n",
              "      <td>NaN</td>\n",
              "      <td>Q</td>\n",
              "    </tr>\n",
              "    <tr>\n",
              "      <th>32</th>\n",
              "      <td>33</td>\n",
              "      <td>1</td>\n",
              "      <td>3</td>\n",
              "      <td>Glynn, Miss. Mary Agatha</td>\n",
              "      <td>female</td>\n",
              "      <td>NaN</td>\n",
              "      <td>0</td>\n",
              "      <td>0</td>\n",
              "      <td>335677</td>\n",
              "      <td>8.0</td>\n",
              "      <td>NaN</td>\n",
              "      <td>Q</td>\n",
              "    </tr>\n",
              "    <tr>\n",
              "      <th>44</th>\n",
              "      <td>45</td>\n",
              "      <td>1</td>\n",
              "      <td>3</td>\n",
              "      <td>Devaney, Miss. Margaret Delia</td>\n",
              "      <td>female</td>\n",
              "      <td>19.0</td>\n",
              "      <td>0</td>\n",
              "      <td>0</td>\n",
              "      <td>330958</td>\n",
              "      <td>8.0</td>\n",
              "      <td>NaN</td>\n",
              "      <td>Q</td>\n",
              "    </tr>\n",
              "  </tbody>\n",
              "</table>\n",
              "</div>"
            ],
            "text/plain": [
              "    PassengerId  Survived  Pclass  ... Fare Cabin  Embarked\n",
              "2             3         1       3  ...  8.0   NaN         S\n",
              "22           23         1       3  ...  8.0   NaN         Q\n",
              "28           29         1       3  ...  8.0   NaN         Q\n",
              "32           33         1       3  ...  8.0   NaN         Q\n",
              "44           45         1       3  ...  8.0   NaN         Q\n",
              "\n",
              "[5 rows x 12 columns]"
            ]
          },
          "metadata": {
            "tags": []
          },
          "execution_count": 21
        }
      ]
    },
    {
      "cell_type": "markdown",
      "metadata": {
        "id": "SkxyElZoKmes",
        "colab_type": "text"
      },
      "source": [
        "> Após a remoção dos outliers, é criada um dataFrame com os dados limpos (df_cl), e plotado novamente os dados de análise para verificarmos se a remoção dos outliers interferiu no sentido dos dados.\n",
        "\n",
        "> Comparando-os podemos observar que os dados permaneceram com a estrutura básicamente igual e que ocorreu algumas pequenas alterações."
      ]
    },
    {
      "cell_type": "code",
      "metadata": {
        "id": "1EtEgcUWThV8",
        "colab_type": "code",
        "colab": {}
      },
      "source": [
        "df_cl = df_train\n",
        "df_cl = df_cl.round(0)\n",
        "df_cl = df_cl.drop(df_cl.query(\"Fare>=300\").index)\n",
        "df_cl = df_cl.drop(df_cl.query(\"Fare==8\").index)"
      ],
      "execution_count": 22,
      "outputs": []
    },
    {
      "cell_type": "code",
      "metadata": {
        "id": "cmlRUyGXfCFC",
        "colab_type": "code",
        "colab": {
          "base_uri": "https://localhost:8080/",
          "height": 301
        },
        "outputId": "9e962afe-f562-438e-d489-7ab3d1b4ea17"
      },
      "source": [
        "barplot(df_cl)"
      ],
      "execution_count": 23,
      "outputs": [
        {
          "output_type": "display_data",
          "data": {
            "image/png": "[encoded data removed]",
            "text/plain": [
              "<Figure size 864x288 with 3 Axes>"
            ]
          },
          "metadata": {
            "tags": []
          }
        }
      ]
    },
    {
      "cell_type": "code",
      "metadata": {
        "id": "NXVltvM3fsFM",
        "colab_type": "code",
        "colab": {
          "base_uri": "https://localhost:8080/",
          "height": 301
        },
        "outputId": "eb7db299-fa57-4d5c-ce83-c1b28404d791"
      },
      "source": [
        "compBar(df_cl)"
      ],
      "execution_count": 24,
      "outputs": [
        {
          "output_type": "display_data",
          "data": {
            "image/png": "[encoded data removed]",
            "text/plain": [
              "<Figure size 864x288 with 2 Axes>"
            ]
          },
          "metadata": {
            "tags": []
          }
        }
      ]
    },
    {
      "cell_type": "code",
      "metadata": {
        "id": "FdQ_4VS_fv8E",
        "colab_type": "code",
        "colab": {
          "base_uri": "https://localhost:8080/",
          "height": 383
        },
        "outputId": "279e50d0-404d-4ce7-9c4d-84e442c48956"
      },
      "source": [
        "correlacao(df_cl)"
      ],
      "execution_count": 25,
      "outputs": [
        {
          "output_type": "display_data",
          "data": {
            "image/png": "[encoded data removed]",
            "text/plain": [
              "<Figure size 1440x360 with 2 Axes>"
            ]
          },
          "metadata": {
            "tags": []
          }
        }
      ]
    },
    {
      "cell_type": "markdown",
      "metadata": {
        "id": "zVU71FlQL2fJ",
        "colab_type": "text"
      },
      "source": [
        "> Nesta etapa é feita a preparação dos dados para os algorítimos, começando com a seleção das features que serão usados e montagem do DataFrame de modelo."
      ]
    },
    {
      "cell_type": "code",
      "metadata": {
        "id": "nXPabmtFKRUH",
        "colab_type": "code",
        "colab": {
          "base_uri": "https://localhost:8080/",
          "height": 411
        },
        "outputId": "972c559b-aa09-41ca-c914-5bb79953ccdc"
      },
      "source": [
        "def limpaBase(df):\n",
        "    swap = {\n",
        "        'male': 0,\n",
        "        'female': 1\n",
        "    }\n",
        "\n",
        "    df_mach = df.drop(['Name', 'Ticket', 'Cabin'], axis=1)\n",
        "    df_mach['Sex'] = df_mach['Sex'].map(swap)\n",
        "    embarked = df_mach.Embarked.str.get_dummies()\n",
        "    df_mach = pd.concat([df_mach, embarked], axis=1)\n",
        "    df_mach = df_mach.drop('Embarked', axis=1)\n",
        "    id_med = df_mach['Age'].median()\n",
        "    df_mach['Age'] = df_mach['Age'].fillna(id_med)\n",
        "    df_mach.dtypes\n",
        "    passengerId = df_mach['PassengerId']\n",
        "    df_mach = df_mach.drop(['PassengerId'], axis=1)\n",
        "    return df_mach, passengerId\n",
        "\n",
        "df_mach, passengerId = limpaBase(df_cl)\n",
        "df_mach"
      ],
      "execution_count": 26,
      "outputs": [
        {
          "output_type": "execute_result",
          "data": {
            "text/html": [
              "<div>\n",
              "<style scoped>\n",
              "    .dataframe tbody tr th:only-of-type {\n",
              "        vertical-align: middle;\n",
              "    }\n",
              "\n",
              "    .dataframe tbody tr th {\n",
              "        vertical-align: top;\n",
              "    }\n",
              "\n",
              "    .dataframe thead th {\n",
              "        text-align: right;\n",
              "    }\n",
              "</style>\n",
              "<table border=\"1\" class=\"dataframe\">\n",
              "  <thead>\n",
              "    <tr style=\"text-align: right;\">\n",
              "      <th></th>\n",
              "      <th>Survived</th>\n",
              "      <th>Pclass</th>\n",
              "      <th>Sex</th>\n",
              "      <th>Age</th>\n",
              "      <th>SibSp</th>\n",
              "      <th>Parch</th>\n",
              "      <th>Fare</th>\n",
              "      <th>C</th>\n",
              "      <th>Q</th>\n",
              "      <th>S</th>\n",
              "    </tr>\n",
              "  </thead>\n",
              "  <tbody>\n",
              "    <tr>\n",
              "      <th>0</th>\n",
              "      <td>0</td>\n",
              "      <td>3</td>\n",
              "      <td>0</td>\n",
              "      <td>22.0</td>\n",
              "      <td>1</td>\n",
              "      <td>0</td>\n",
              "      <td>7.0</td>\n",
              "      <td>0</td>\n",
              "      <td>0</td>\n",
              "      <td>1</td>\n",
              "    </tr>\n",
              "    <tr>\n",
              "      <th>1</th>\n",
              "      <td>1</td>\n",
              "      <td>1</td>\n",
              "      <td>1</td>\n",
              "      <td>38.0</td>\n",
              "      <td>1</td>\n",
              "      <td>0</td>\n",
              "      <td>71.0</td>\n",
              "      <td>1</td>\n",
              "      <td>0</td>\n",
              "      <td>0</td>\n",
              "    </tr>\n",
              "    <tr>\n",
              "      <th>3</th>\n",
              "      <td>1</td>\n",
              "      <td>1</td>\n",
              "      <td>1</td>\n",
              "      <td>35.0</td>\n",
              "      <td>1</td>\n",
              "      <td>0</td>\n",
              "      <td>53.0</td>\n",
              "      <td>0</td>\n",
              "      <td>0</td>\n",
              "      <td>1</td>\n",
              "    </tr>\n",
              "    <tr>\n",
              "      <th>6</th>\n",
              "      <td>0</td>\n",
              "      <td>1</td>\n",
              "      <td>0</td>\n",
              "      <td>54.0</td>\n",
              "      <td>0</td>\n",
              "      <td>0</td>\n",
              "      <td>52.0</td>\n",
              "      <td>0</td>\n",
              "      <td>0</td>\n",
              "      <td>1</td>\n",
              "    </tr>\n",
              "    <tr>\n",
              "      <th>7</th>\n",
              "      <td>0</td>\n",
              "      <td>3</td>\n",
              "      <td>0</td>\n",
              "      <td>2.0</td>\n",
              "      <td>3</td>\n",
              "      <td>1</td>\n",
              "      <td>21.0</td>\n",
              "      <td>0</td>\n",
              "      <td>0</td>\n",
              "      <td>1</td>\n",
              "    </tr>\n",
              "    <tr>\n",
              "      <th>...</th>\n",
              "      <td>...</td>\n",
              "      <td>...</td>\n",
              "      <td>...</td>\n",
              "      <td>...</td>\n",
              "      <td>...</td>\n",
              "      <td>...</td>\n",
              "      <td>...</td>\n",
              "      <td>...</td>\n",
              "      <td>...</td>\n",
              "      <td>...</td>\n",
              "    </tr>\n",
              "    <tr>\n",
              "      <th>885</th>\n",
              "      <td>0</td>\n",
              "      <td>3</td>\n",
              "      <td>1</td>\n",
              "      <td>39.0</td>\n",
              "      <td>0</td>\n",
              "      <td>5</td>\n",
              "      <td>29.0</td>\n",
              "      <td>0</td>\n",
              "      <td>1</td>\n",
              "      <td>0</td>\n",
              "    </tr>\n",
              "    <tr>\n",
              "      <th>886</th>\n",
              "      <td>0</td>\n",
              "      <td>2</td>\n",
              "      <td>0</td>\n",
              "      <td>27.0</td>\n",
              "      <td>0</td>\n",
              "      <td>0</td>\n",
              "      <td>13.0</td>\n",
              "      <td>0</td>\n",
              "      <td>0</td>\n",
              "      <td>1</td>\n",
              "    </tr>\n",
              "    <tr>\n",
              "      <th>887</th>\n",
              "      <td>1</td>\n",
              "      <td>1</td>\n",
              "      <td>1</td>\n",
              "      <td>19.0</td>\n",
              "      <td>0</td>\n",
              "      <td>0</td>\n",
              "      <td>30.0</td>\n",
              "      <td>0</td>\n",
              "      <td>0</td>\n",
              "      <td>1</td>\n",
              "    </tr>\n",
              "    <tr>\n",
              "      <th>888</th>\n",
              "      <td>0</td>\n",
              "      <td>3</td>\n",
              "      <td>1</td>\n",
              "      <td>29.0</td>\n",
              "      <td>1</td>\n",
              "      <td>2</td>\n",
              "      <td>23.0</td>\n",
              "      <td>0</td>\n",
              "      <td>0</td>\n",
              "      <td>1</td>\n",
              "    </tr>\n",
              "    <tr>\n",
              "      <th>889</th>\n",
              "      <td>1</td>\n",
              "      <td>1</td>\n",
              "      <td>0</td>\n",
              "      <td>26.0</td>\n",
              "      <td>0</td>\n",
              "      <td>0</td>\n",
              "      <td>30.0</td>\n",
              "      <td>1</td>\n",
              "      <td>0</td>\n",
              "      <td>0</td>\n",
              "    </tr>\n",
              "  </tbody>\n",
              "</table>\n",
              "<p>682 rows × 10 columns</p>\n",
              "</div>"
            ],
            "text/plain": [
              "     Survived  Pclass  Sex   Age  SibSp  Parch  Fare  C  Q  S\n",
              "0           0       3    0  22.0      1      0   7.0  0  0  1\n",
              "1           1       1    1  38.0      1      0  71.0  1  0  0\n",
              "3           1       1    1  35.0      1      0  53.0  0  0  1\n",
              "6           0       1    0  54.0      0      0  52.0  0  0  1\n",
              "7           0       3    0   2.0      3      1  21.0  0  0  1\n",
              "..        ...     ...  ...   ...    ...    ...   ... .. .. ..\n",
              "885         0       3    1  39.0      0      5  29.0  0  1  0\n",
              "886         0       2    0  27.0      0      0  13.0  0  0  1\n",
              "887         1       1    1  19.0      0      0  30.0  0  0  1\n",
              "888         0       3    1  29.0      1      2  23.0  0  0  1\n",
              "889         1       1    0  26.0      0      0  30.0  1  0  0\n",
              "\n",
              "[682 rows x 10 columns]"
            ]
          },
          "metadata": {
            "tags": []
          },
          "execution_count": 26
        }
      ]
    },
    {
      "cell_type": "markdown",
      "metadata": {
        "id": "x4E_SbRpQg8k",
        "colab_type": "text"
      },
      "source": [
        "### Modelos de Machine Learnig"
      ]
    },
    {
      "cell_type": "code",
      "metadata": {
        "id": "PQyo0WAn7y3Q",
        "colab_type": "code",
        "colab": {}
      },
      "source": [
        "from sklearn.pipeline import Pipeline\n",
        "from sklearn.model_selection import cross_validate\n",
        "from sklearn.model_selection import StratifiedKFold\n",
        "from sklearn.neighbors import KNeighborsClassifier\n",
        "from sklearn.svm import SVC\n",
        "from sklearn.gaussian_process import GaussianProcessClassifier\n",
        "from sklearn.tree import DecisionTreeClassifier\n",
        "from sklearn.ensemble import RandomForestClassifier, AdaBoostClassifier\n",
        "from sklearn.naive_bayes import GaussianNB\n",
        "from sklearn.discriminant_analysis import QuadraticDiscriminantAnalysis\n",
        "from sklearn.linear_model import LogisticRegression\n",
        "from sklearn.preprocessing import StandardScaler\n",
        "import numpy as np\n",
        "from sklearn.dummy import DummyClassifier\n",
        "\n",
        "import warnings\n",
        "warnings.simplefilter(action='ignore', category=FutureWarning)\n",
        "warnings.simplefilter(action='ignore', category=UserWarning)"
      ],
      "execution_count": 42,
      "outputs": []
    },
    {
      "cell_type": "code",
      "metadata": {
        "id": "jh5iLjCzyZEL",
        "colab_type": "code",
        "colab": {}
      },
      "source": [
        "X = df_mach.drop('Survived', axis=1)\n",
        "y = df_mach.Survived"
      ],
      "execution_count": 31,
      "outputs": []
    },
    {
      "cell_type": "code",
      "metadata": {
        "id": "OCvJZ_9gAN4z",
        "colab_type": "code",
        "colab": {}
      },
      "source": [
        "def imprime_resultados(modelo, resultados):\n",
        "    media = resultados['test_score'].mean()\n",
        "    desvio_padrao = resultados['test_score'].std()\n",
        "\n",
        "    print(f\"Média do {modelo}: %.2f, \\nIntervalo de confiança entre: %.2f e %.2f\\n\" % ((media * 100), (media - (desvio_padrao*2)), (media + (desvio_padrao*2))))"
      ],
      "execution_count": 28,
      "outputs": []
    },
    {
      "cell_type": "code",
      "metadata": {
        "id": "I4o-iNkiD_BY",
        "colab_type": "code",
        "colab": {}
      },
      "source": [
        "def testa_modelo(model, name):\n",
        "    SEED = 5\n",
        "    np.random.seed(SEED)\n",
        "\n",
        "    scaler = StandardScaler()\n",
        "\n",
        "    pipeline = Pipeline([('Escalador', scaler), ('modelo', model)])\n",
        "\n",
        "    cv = StratifiedKFold(n_splits=10, shuffle=True)\n",
        "    results = cross_validate(pipeline, X, y, cv=cv, return_train_score=True)\n",
        "    imprime_resultados(name, results)"
      ],
      "execution_count": 29,
      "outputs": []
    },
    {
      "cell_type": "markdown",
      "metadata": {
        "id": "WUqMgQg3MfGp",
        "colab_type": "text"
      },
      "source": [
        "> O primeiro algorítimo usado é um Dummy para termos uma base de acurácia."
      ]
    },
    {
      "cell_type": "code",
      "metadata": {
        "id": "4NkJJ6cvf0Yg",
        "colab_type": "code",
        "colab": {
          "base_uri": "https://localhost:8080/",
          "height": 70
        },
        "outputId": "c26fdba7-4b89-4689-b774-e015c62686dd"
      },
      "source": [
        "SEED = 301\n",
        "np.random.seed(SEED)\n",
        "\n",
        "dummy = DummyClassifier()\n",
        "\n",
        "testa_modelo(dummy,'Dummy')"
      ],
      "execution_count": 40,
      "outputs": [
        {
          "output_type": "stream",
          "text": [
            "Média do Dummy: 51.45, \n",
            "Intervalo de confiança entre: 0.41 e 0.61\n",
            "\n"
          ],
          "name": "stdout"
        }
      ]
    },
    {
      "cell_type": "markdown",
      "metadata": {
        "id": "RbZUFKCXN_8e",
        "colab_type": "text"
      },
      "source": [
        "> É feita então a escolha de três modelos com os melhores resultados para testes"
      ]
    },
    {
      "cell_type": "code",
      "metadata": {
        "id": "SC0pLU8yEYW0",
        "colab_type": "code",
        "colab": {
          "base_uri": "https://localhost:8080/",
          "height": 497
        },
        "outputId": "8a1f6b40-53bb-491e-c0f4-c2b0a8e5d8bf"
      },
      "source": [
        "names = ['KNeighborsClassifier', 'SVC', 'GaussianProcessClassifier', 'DecisionTreeClassifier', 'RandomForestClassifier', 'AdaBoostClassifier',\n",
        "           'GaussianNB', 'QuadraticDiscriminantAnalysis', 'LogisticRegression']\n",
        "\n",
        "modelos = [KNeighborsClassifier(), SVC(), GaussianProcessClassifier(), DecisionTreeClassifier(), RandomForestClassifier(), AdaBoostClassifier(),\n",
        "           GaussianNB(), QuadraticDiscriminantAnalysis(), LogisticRegression()]\n",
        "\n",
        "count = 0\n",
        "\n",
        "for model in modelos:\n",
        "    testa_modelo(model, names[count])\n",
        "    count+=1"
      ],
      "execution_count": 43,
      "outputs": [
        {
          "output_type": "stream",
          "text": [
            "Média do KNeighborsClassifier: 80.07, \n",
            "Intervalo de confiança entre: 0.74 e 0.86\n",
            "\n",
            "Média do SVC: 82.56, \n",
            "Intervalo de confiança entre: 0.74 e 0.91\n",
            "\n",
            "Média do GaussianProcessClassifier: 80.06, \n",
            "Intervalo de confiança entre: 0.73 e 0.87\n",
            "\n",
            "Média do DecisionTreeClassifier: 80.51, \n",
            "Intervalo de confiança entre: 0.74 e 0.87\n",
            "\n",
            "Média do RandomForestClassifier: 81.39, \n",
            "Intervalo de confiança entre: 0.76 e 0.87\n",
            "\n",
            "Média do AdaBoostClassifier: 79.91, \n",
            "Intervalo de confiança entre: 0.72 e 0.88\n",
            "\n",
            "Média do GaussianNB: 77.42, \n",
            "Intervalo de confiança entre: 0.67 e 0.88\n",
            "\n",
            "Média do QuadraticDiscriminantAnalysis: 58.36, \n",
            "Intervalo de confiança entre: 0.54 e 0.63\n",
            "\n",
            "Média do LogisticRegression: 78.89, \n",
            "Intervalo de confiança entre: 0.69 e 0.88\n",
            "\n"
          ],
          "name": "stdout"
        }
      ]
    },
    {
      "cell_type": "markdown",
      "metadata": {
        "id": "cdrevtLHzT-4",
        "colab_type": "text"
      },
      "source": [
        "> Com os três melhores modelos, vamos procurar o que tem os melhores parâmetros"
      ]
    },
    {
      "cell_type": "code",
      "metadata": {
        "id": "cPvXmHyl0B0D",
        "colab_type": "code",
        "colab": {}
      },
      "source": [
        "from sklearn.model_selection import RandomizedSearchCV\n",
        "from scipy.stats import randint\n",
        "import random"
      ],
      "execution_count": 66,
      "outputs": []
    },
    {
      "cell_type": "code",
      "metadata": {
        "id": "XoQ_BjEE2Qy-",
        "colab_type": "code",
        "colab": {}
      },
      "source": [
        "def best_results(estimator):\n",
        "    results = pd.DataFrame(estimator.cv_results_)\n",
        "    ordenados = results.sort_values('mean_test_score', ascending=False).head()\n",
        "    for indice, lista in ordenados.iterrows():\n",
        "        print(\"%.3f [%.3f] %s\" % (lista.mean_test_score*100, lista.std_test_score*2, lista.params))"
      ],
      "execution_count": 62,
      "outputs": []
    },
    {
      "cell_type": "code",
      "metadata": {
        "id": "BJvampVIIjxY",
        "colab_type": "code",
        "colab": {
          "base_uri": "https://localhost:8080/",
          "height": 106
        },
        "outputId": "ec2f6a02-1409-4cbf-edda-15057c48b5a7"
      },
      "source": [
        "#Teste DecisionTreeClassifier\n",
        "\n",
        "SEED = 301\n",
        "np.random.seed(SEED)\n",
        "\n",
        "params = {\n",
        "    'criterion' : ['gini', 'entropy'],\n",
        "    'max_depth' : randint(1,100),\n",
        "    'min_samples_split' : randint(1,100),\n",
        "    'min_samples_leaf' : randint(1,100)\n",
        "}\n",
        "\n",
        "busca_tree = RandomizedSearchCV(DecisionTreeClassifier(), params, n_iter=30, cv=StratifiedKFold(n_splits=5, shuffle=True), return_train_score=True)\n",
        "\n",
        "busca_tree.fit(X, y)\n",
        "best_results(busca_tree)"
      ],
      "execution_count": 110,
      "outputs": [
        {
          "output_type": "stream",
          "text": [
            "80.649 [0.052] {'criterion': 'gini', 'max_depth': 15, 'min_samples_leaf': 31, 'min_samples_split': 25}\n",
            "80.354 [0.042] {'criterion': 'gini', 'max_depth': 71, 'min_samples_leaf': 28, 'min_samples_split': 51}\n",
            "80.354 [0.042] {'criterion': 'gini', 'max_depth': 94, 'min_samples_leaf': 28, 'min_samples_split': 22}\n",
            "80.063 [0.071] {'criterion': 'entropy', 'max_depth': 33, 'min_samples_leaf': 36, 'min_samples_split': 53}\n",
            "79.774 [0.059] {'criterion': 'entropy', 'max_depth': 43, 'min_samples_leaf': 27, 'min_samples_split': 96}\n"
          ],
          "name": "stdout"
        }
      ]
    },
    {
      "cell_type": "code",
      "metadata": {
        "id": "zcMKcHudKUz0",
        "colab_type": "code",
        "colab": {
          "base_uri": "https://localhost:8080/",
          "height": 106
        },
        "outputId": "59f232c4-f841-4544-efa6-a0cbbd838a1f"
      },
      "source": [
        "#Teste SVC\n",
        "\n",
        "SEED = 301\n",
        "np.random.seed(SEED)\n",
        "\n",
        "params = {\n",
        "    'C' : [random.random() * random.randint(1,100)],\n",
        "    'degree' : randint(1,100),\n",
        "    'gamma' : ['scale', 'auto']\n",
        "}\n",
        "\n",
        "busca_SVM = RandomizedSearchCV(SVC(), params, n_iter=30, cv=StratifiedKFold(n_splits=5, shuffle=True), return_train_score=True)\n",
        "\n",
        "busca_SVM.fit(X, y)\n",
        "best_results(busca_SVM)"
      ],
      "execution_count": 111,
      "outputs": [
        {
          "output_type": "stream",
          "text": [
            "71.999 [0.066] {'C': 21.10992463150062, 'degree': 21, 'gamma': 'scale'}\n",
            "71.999 [0.066] {'C': 21.10992463150062, 'degree': 41, 'gamma': 'scale'}\n",
            "71.999 [0.066] {'C': 21.10992463150062, 'degree': 53, 'gamma': 'scale'}\n",
            "71.999 [0.066] {'C': 21.10992463150062, 'degree': 65, 'gamma': 'scale'}\n",
            "71.999 [0.066] {'C': 21.10992463150062, 'degree': 72, 'gamma': 'scale'}\n"
          ],
          "name": "stdout"
        }
      ]
    },
    {
      "cell_type": "code",
      "metadata": {
        "id": "mnSML9_JKcu3",
        "colab_type": "code",
        "colab": {
          "base_uri": "https://localhost:8080/",
          "height": 126
        },
        "outputId": "20f4eda8-83a7-4180-f60b-cdc5393016bd"
      },
      "source": [
        "SEED = 301\n",
        "np.random.seed(SEED)\n",
        "\n",
        "params = {\n",
        "    \"n_estimators\" :randint(10, 101),\n",
        "    \"max_depth\" : randint(3, 6),\n",
        "    \"min_samples_split\" : randint(32, 129),\n",
        "    \"min_samples_leaf\" : randint(32, 129),\n",
        "    \"bootstrap\" : [True, False],\n",
        "    \"criterion\" : [\"gini\", \"entropy\"]\n",
        "}\n",
        "\n",
        "busca_RFC = RandomizedSearchCV(RandomForestClassifier(), params, n_iter=30, cv=StratifiedKFold(n_splits=5, shuffle=True), return_train_score=True)\n",
        "\n",
        "busca_RFC.fit(X, y)\n",
        "best_results(busca_RFC)"
      ],
      "execution_count": 112,
      "outputs": [
        {
          "output_type": "stream",
          "text": [
            "79.763 [0.082] {'bootstrap': True, 'criterion': 'entropy', 'max_depth': 5, 'min_samples_leaf': 38, 'min_samples_split': 106, 'n_estimators': 31}\n",
            "79.033 [0.048] {'bootstrap': True, 'criterion': 'gini', 'max_depth': 3, 'min_samples_leaf': 57, 'min_samples_split': 73, 'n_estimators': 50}\n",
            "78.594 [0.094] {'bootstrap': False, 'criterion': 'gini', 'max_depth': 3, 'min_samples_leaf': 50, 'min_samples_split': 93, 'n_estimators': 89}\n",
            "78.447 [0.050] {'bootstrap': True, 'criterion': 'gini', 'max_depth': 5, 'min_samples_leaf': 40, 'min_samples_split': 85, 'n_estimators': 66}\n",
            "78.155 [0.072] {'bootstrap': False, 'criterion': 'entropy', 'max_depth': 4, 'min_samples_leaf': 121, 'min_samples_split': 47, 'n_estimators': 27}\n"
          ],
          "name": "stdout"
        }
      ]
    },
    {
      "cell_type": "markdown",
      "metadata": {
        "id": "O3Y4RmZiQp5O",
        "colab_type": "text"
      },
      "source": [
        "### Resultados Finais"
      ]
    },
    {
      "cell_type": "markdown",
      "metadata": {
        "id": "_JM8u9hUOjTg",
        "colab_type": "text"
      },
      "source": [
        "> Para finalizar, é importado os dados de teste e feito o mesmo procedimento de limpeza dos dados mostrado anteriormente."
      ]
    },
    {
      "cell_type": "code",
      "metadata": {
        "id": "FfluiqjvzJAK",
        "colab_type": "code",
        "colab": {
          "base_uri": "https://localhost:8080/",
          "height": 200
        },
        "outputId": "548f90e9-09fb-466e-8ef8-aeaa61d6675c"
      },
      "source": [
        "df_teste = pd.read_csv('test.csv')\n",
        "df_teste, passengerId = limpaBase(df_teste)\n",
        "x_teste = df_teste\n",
        "x_teste.head()"
      ],
      "execution_count": 114,
      "outputs": [
        {
          "output_type": "execute_result",
          "data": {
            "text/html": [
              "<div>\n",
              "<style scoped>\n",
              "    .dataframe tbody tr th:only-of-type {\n",
              "        vertical-align: middle;\n",
              "    }\n",
              "\n",
              "    .dataframe tbody tr th {\n",
              "        vertical-align: top;\n",
              "    }\n",
              "\n",
              "    .dataframe thead th {\n",
              "        text-align: right;\n",
              "    }\n",
              "</style>\n",
              "<table border=\"1\" class=\"dataframe\">\n",
              "  <thead>\n",
              "    <tr style=\"text-align: right;\">\n",
              "      <th></th>\n",
              "      <th>Pclass</th>\n",
              "      <th>Sex</th>\n",
              "      <th>Age</th>\n",
              "      <th>SibSp</th>\n",
              "      <th>Parch</th>\n",
              "      <th>Fare</th>\n",
              "      <th>C</th>\n",
              "      <th>Q</th>\n",
              "      <th>S</th>\n",
              "    </tr>\n",
              "  </thead>\n",
              "  <tbody>\n",
              "    <tr>\n",
              "      <th>0</th>\n",
              "      <td>3</td>\n",
              "      <td>0</td>\n",
              "      <td>34.5</td>\n",
              "      <td>0</td>\n",
              "      <td>0</td>\n",
              "      <td>7.8292</td>\n",
              "      <td>0</td>\n",
              "      <td>1</td>\n",
              "      <td>0</td>\n",
              "    </tr>\n",
              "    <tr>\n",
              "      <th>1</th>\n",
              "      <td>3</td>\n",
              "      <td>1</td>\n",
              "      <td>47.0</td>\n",
              "      <td>1</td>\n",
              "      <td>0</td>\n",
              "      <td>7.0000</td>\n",
              "      <td>0</td>\n",
              "      <td>0</td>\n",
              "      <td>1</td>\n",
              "    </tr>\n",
              "    <tr>\n",
              "      <th>2</th>\n",
              "      <td>2</td>\n",
              "      <td>0</td>\n",
              "      <td>62.0</td>\n",
              "      <td>0</td>\n",
              "      <td>0</td>\n",
              "      <td>9.6875</td>\n",
              "      <td>0</td>\n",
              "      <td>1</td>\n",
              "      <td>0</td>\n",
              "    </tr>\n",
              "    <tr>\n",
              "      <th>3</th>\n",
              "      <td>3</td>\n",
              "      <td>0</td>\n",
              "      <td>27.0</td>\n",
              "      <td>0</td>\n",
              "      <td>0</td>\n",
              "      <td>8.6625</td>\n",
              "      <td>0</td>\n",
              "      <td>0</td>\n",
              "      <td>1</td>\n",
              "    </tr>\n",
              "    <tr>\n",
              "      <th>4</th>\n",
              "      <td>3</td>\n",
              "      <td>1</td>\n",
              "      <td>22.0</td>\n",
              "      <td>1</td>\n",
              "      <td>1</td>\n",
              "      <td>12.2875</td>\n",
              "      <td>0</td>\n",
              "      <td>0</td>\n",
              "      <td>1</td>\n",
              "    </tr>\n",
              "  </tbody>\n",
              "</table>\n",
              "</div>"
            ],
            "text/plain": [
              "   Pclass  Sex   Age  SibSp  Parch     Fare  C  Q  S\n",
              "0       3    0  34.5      0      0   7.8292  0  1  0\n",
              "1       3    1  47.0      1      0   7.0000  0  0  1\n",
              "2       2    0  62.0      0      0   9.6875  0  1  0\n",
              "3       3    0  27.0      0      0   8.6625  0  0  1\n",
              "4       3    1  22.0      1      1  12.2875  0  0  1"
            ]
          },
          "metadata": {
            "tags": []
          },
          "execution_count": 114
        }
      ]
    },
    {
      "cell_type": "code",
      "metadata": {
        "id": "ufdwXYrH3-cD",
        "colab_type": "code",
        "colab": {
          "base_uri": "https://localhost:8080/",
          "height": 200
        },
        "outputId": "828fe99d-a092-43da-c5dd-5504a019f2f3"
      },
      "source": [
        "#Removendo dados nulos\n",
        "id_med = x_teste['Fare'].median()\n",
        "x_teste['Fare'] = x_teste['Fare'].fillna(id_med)\n",
        "\n",
        "x_teste.head()"
      ],
      "execution_count": 115,
      "outputs": [
        {
          "output_type": "execute_result",
          "data": {
            "text/html": [
              "<div>\n",
              "<style scoped>\n",
              "    .dataframe tbody tr th:only-of-type {\n",
              "        vertical-align: middle;\n",
              "    }\n",
              "\n",
              "    .dataframe tbody tr th {\n",
              "        vertical-align: top;\n",
              "    }\n",
              "\n",
              "    .dataframe thead th {\n",
              "        text-align: right;\n",
              "    }\n",
              "</style>\n",
              "<table border=\"1\" class=\"dataframe\">\n",
              "  <thead>\n",
              "    <tr style=\"text-align: right;\">\n",
              "      <th></th>\n",
              "      <th>Pclass</th>\n",
              "      <th>Sex</th>\n",
              "      <th>Age</th>\n",
              "      <th>SibSp</th>\n",
              "      <th>Parch</th>\n",
              "      <th>Fare</th>\n",
              "      <th>C</th>\n",
              "      <th>Q</th>\n",
              "      <th>S</th>\n",
              "    </tr>\n",
              "  </thead>\n",
              "  <tbody>\n",
              "    <tr>\n",
              "      <th>0</th>\n",
              "      <td>3</td>\n",
              "      <td>0</td>\n",
              "      <td>34.5</td>\n",
              "      <td>0</td>\n",
              "      <td>0</td>\n",
              "      <td>7.8292</td>\n",
              "      <td>0</td>\n",
              "      <td>1</td>\n",
              "      <td>0</td>\n",
              "    </tr>\n",
              "    <tr>\n",
              "      <th>1</th>\n",
              "      <td>3</td>\n",
              "      <td>1</td>\n",
              "      <td>47.0</td>\n",
              "      <td>1</td>\n",
              "      <td>0</td>\n",
              "      <td>7.0000</td>\n",
              "      <td>0</td>\n",
              "      <td>0</td>\n",
              "      <td>1</td>\n",
              "    </tr>\n",
              "    <tr>\n",
              "      <th>2</th>\n",
              "      <td>2</td>\n",
              "      <td>0</td>\n",
              "      <td>62.0</td>\n",
              "      <td>0</td>\n",
              "      <td>0</td>\n",
              "      <td>9.6875</td>\n",
              "      <td>0</td>\n",
              "      <td>1</td>\n",
              "      <td>0</td>\n",
              "    </tr>\n",
              "    <tr>\n",
              "      <th>3</th>\n",
              "      <td>3</td>\n",
              "      <td>0</td>\n",
              "      <td>27.0</td>\n",
              "      <td>0</td>\n",
              "      <td>0</td>\n",
              "      <td>8.6625</td>\n",
              "      <td>0</td>\n",
              "      <td>0</td>\n",
              "      <td>1</td>\n",
              "    </tr>\n",
              "    <tr>\n",
              "      <th>4</th>\n",
              "      <td>3</td>\n",
              "      <td>1</td>\n",
              "      <td>22.0</td>\n",
              "      <td>1</td>\n",
              "      <td>1</td>\n",
              "      <td>12.2875</td>\n",
              "      <td>0</td>\n",
              "      <td>0</td>\n",
              "      <td>1</td>\n",
              "    </tr>\n",
              "  </tbody>\n",
              "</table>\n",
              "</div>"
            ],
            "text/plain": [
              "   Pclass  Sex   Age  SibSp  Parch     Fare  C  Q  S\n",
              "0       3    0  34.5      0      0   7.8292  0  1  0\n",
              "1       3    1  47.0      1      0   7.0000  0  0  1\n",
              "2       2    0  62.0      0      0   9.6875  0  1  0\n",
              "3       3    0  27.0      0      0   8.6625  0  0  1\n",
              "4       3    1  22.0      1      1  12.2875  0  0  1"
            ]
          },
          "metadata": {
            "tags": []
          },
          "execution_count": 115
        }
      ]
    },
    {
      "cell_type": "code",
      "metadata": {
        "id": "pRmpp4rv1i3l",
        "colab_type": "code",
        "colab": {
          "base_uri": "https://localhost:8080/",
          "height": 124
        },
        "outputId": "6afc49a5-7482-450f-9126-13ba18841cad"
      },
      "source": [
        "y_teste = pd.read_csv('gender_submission.csv')\n",
        "y_teste = y_teste['Survived']\n",
        "y_teste.head()"
      ],
      "execution_count": 116,
      "outputs": [
        {
          "output_type": "execute_result",
          "data": {
            "text/plain": [
              "0    0\n",
              "1    1\n",
              "2    0\n",
              "3    0\n",
              "4    1\n",
              "Name: Survived, dtype: int64"
            ]
          },
          "metadata": {
            "tags": []
          },
          "execution_count": 116
        }
      ]
    },
    {
      "cell_type": "markdown",
      "metadata": {
        "id": "IjIsI0_bPrjT",
        "colab_type": "text"
      },
      "source": [
        "> Usando o modelo treinado, obtemos um resultado final de acurácia"
      ]
    },
    {
      "cell_type": "code",
      "metadata": {
        "id": "lG0D2OMrAu_Y",
        "colab_type": "code",
        "colab": {}
      },
      "source": [
        "modelo_tree = busca_tree.best_estimator_"
      ],
      "execution_count": 118,
      "outputs": []
    },
    {
      "cell_type": "code",
      "metadata": {
        "id": "_DPcZq8pu8VM",
        "colab_type": "code",
        "colab": {
          "base_uri": "https://localhost:8080/",
          "height": 35
        },
        "outputId": "d5f700da-ffff-4d9c-f1ec-468ee0b0a68e"
      },
      "source": [
        "from sklearn.metrics import accuracy_score\n",
        "\n",
        "pred_tree = modelo_tree.predict(x_teste)\n",
        "\n",
        "acur_tree = accuracy_score(y_teste, pred_tree) * 100\n",
        "\n",
        "print(\"A taxa de acurácia TreeClass: %.2f%%\" % acur_tree)"
      ],
      "execution_count": 120,
      "outputs": [
        {
          "output_type": "stream",
          "text": [
            "A taxa de acurácia TreeClass: 93.78%\n"
          ],
          "name": "stdout"
        }
      ]
    },
    {
      "cell_type": "code",
      "metadata": {
        "id": "VJmK_sZsW2eU",
        "colab_type": "code",
        "colab": {}
      },
      "source": [
        "!pip install -q scikit-plot"
      ],
      "execution_count": 121,
      "outputs": []
    },
    {
      "cell_type": "code",
      "metadata": {
        "id": "iydlqSPRXzaF",
        "colab_type": "code",
        "colab": {
          "base_uri": "https://localhost:8080/",
          "height": 70
        },
        "outputId": "db61ec4f-19fe-4d4c-d119-ddb2c933712c"
      },
      "source": [
        "y_teste.value_counts()"
      ],
      "execution_count": 122,
      "outputs": [
        {
          "output_type": "execute_result",
          "data": {
            "text/plain": [
              "0    266\n",
              "1    152\n",
              "Name: Survived, dtype: int64"
            ]
          },
          "metadata": {
            "tags": []
          },
          "execution_count": 122
        }
      ]
    },
    {
      "cell_type": "code",
      "metadata": {
        "id": "pd2DW-R4UcSq",
        "colab_type": "code",
        "colab": {
          "base_uri": "https://localhost:8080/",
          "height": 323
        },
        "outputId": "d9c404e1-9681-4b3d-a62b-871a34095ff6"
      },
      "source": [
        "import scikitplot as skplt\n",
        "\n",
        "skplt.metrics.plot_confusion_matrix(y_teste, pred_tree, normalize=True, title='DecisionTree')"
      ],
      "execution_count": 123,
      "outputs": [
        {
          "output_type": "execute_result",
          "data": {
            "text/plain": [
              "<matplotlib.axes._subplots.AxesSubplot at 0x7f8b40815e80>"
            ]
          },
          "metadata": {
            "tags": []
          },
          "execution_count": 123
        },
        {
          "output_type": "display_data",
          "data": {
            "image/png": "[encoded data removed]",
            "text/plain": [
              "<Figure size 432x288 with 2 Axes>"
            ]
          },
          "metadata": {
            "tags": []
          }
        }
      ]
    },
    {
      "cell_type": "markdown",
      "metadata": {
        "id": "wimuVEYH4zOS",
        "colab_type": "text"
      },
      "source": [
        "> Os dados são então exportados como csv para se fazer a submission ao kaggle"
      ]
    },
    {
      "cell_type": "markdown",
      "metadata": {
        "id": "tysGAXPCBn3p",
        "colab_type": "text"
      },
      "source": [
        ""
      ]
    },
    {
      "cell_type": "code",
      "metadata": {
        "id": "7zq-V3B_zPLm",
        "colab_type": "code",
        "colab": {
          "base_uri": "https://localhost:8080/",
          "height": 200
        },
        "outputId": "6d165220-ecf4-40be-ec11-4acc3b3fe73a"
      },
      "source": [
        "submission = pd.DataFrame({'passengerId':passengerId, 'Survived':pred_tree})\n",
        "submission.head()"
      ],
      "execution_count": 125,
      "outputs": [
        {
          "output_type": "execute_result",
          "data": {
            "text/html": [
              "<div>\n",
              "<style scoped>\n",
              "    .dataframe tbody tr th:only-of-type {\n",
              "        vertical-align: middle;\n",
              "    }\n",
              "\n",
              "    .dataframe tbody tr th {\n",
              "        vertical-align: top;\n",
              "    }\n",
              "\n",
              "    .dataframe thead th {\n",
              "        text-align: right;\n",
              "    }\n",
              "</style>\n",
              "<table border=\"1\" class=\"dataframe\">\n",
              "  <thead>\n",
              "    <tr style=\"text-align: right;\">\n",
              "      <th></th>\n",
              "      <th>passengerId</th>\n",
              "      <th>Survived</th>\n",
              "    </tr>\n",
              "  </thead>\n",
              "  <tbody>\n",
              "    <tr>\n",
              "      <th>0</th>\n",
              "      <td>892</td>\n",
              "      <td>0</td>\n",
              "    </tr>\n",
              "    <tr>\n",
              "      <th>1</th>\n",
              "      <td>893</td>\n",
              "      <td>1</td>\n",
              "    </tr>\n",
              "    <tr>\n",
              "      <th>2</th>\n",
              "      <td>894</td>\n",
              "      <td>0</td>\n",
              "    </tr>\n",
              "    <tr>\n",
              "      <th>3</th>\n",
              "      <td>895</td>\n",
              "      <td>0</td>\n",
              "    </tr>\n",
              "    <tr>\n",
              "      <th>4</th>\n",
              "      <td>896</td>\n",
              "      <td>1</td>\n",
              "    </tr>\n",
              "  </tbody>\n",
              "</table>\n",
              "</div>"
            ],
            "text/plain": [
              "   passengerId  Survived\n",
              "0          892         0\n",
              "1          893         1\n",
              "2          894         0\n",
              "3          895         0\n",
              "4          896         1"
            ]
          },
          "metadata": {
            "tags": []
          },
          "execution_count": 125
        }
      ]
    },
    {
      "cell_type": "code",
      "metadata": {
        "id": "JTcgBeTBzuqp",
        "colab_type": "code",
        "colab": {
          "base_uri": "https://localhost:8080/",
          "height": 411
        },
        "outputId": "bf52e5c8-6298-4432-e87b-9a804136ea80"
      },
      "source": [
        "comparativo = pd.DataFrame({'passengerId':passengerId, 'previsao':pred_tree, 'original':y_teste})\n",
        "comparativo"
      ],
      "execution_count": 126,
      "outputs": [
        {
          "output_type": "execute_result",
          "data": {
            "text/html": [
              "<div>\n",
              "<style scoped>\n",
              "    .dataframe tbody tr th:only-of-type {\n",
              "        vertical-align: middle;\n",
              "    }\n",
              "\n",
              "    .dataframe tbody tr th {\n",
              "        vertical-align: top;\n",
              "    }\n",
              "\n",
              "    .dataframe thead th {\n",
              "        text-align: right;\n",
              "    }\n",
              "</style>\n",
              "<table border=\"1\" class=\"dataframe\">\n",
              "  <thead>\n",
              "    <tr style=\"text-align: right;\">\n",
              "      <th></th>\n",
              "      <th>passengerId</th>\n",
              "      <th>previsao</th>\n",
              "      <th>original</th>\n",
              "    </tr>\n",
              "  </thead>\n",
              "  <tbody>\n",
              "    <tr>\n",
              "      <th>0</th>\n",
              "      <td>892</td>\n",
              "      <td>0</td>\n",
              "      <td>0</td>\n",
              "    </tr>\n",
              "    <tr>\n",
              "      <th>1</th>\n",
              "      <td>893</td>\n",
              "      <td>1</td>\n",
              "      <td>1</td>\n",
              "    </tr>\n",
              "    <tr>\n",
              "      <th>2</th>\n",
              "      <td>894</td>\n",
              "      <td>0</td>\n",
              "      <td>0</td>\n",
              "    </tr>\n",
              "    <tr>\n",
              "      <th>3</th>\n",
              "      <td>895</td>\n",
              "      <td>0</td>\n",
              "      <td>0</td>\n",
              "    </tr>\n",
              "    <tr>\n",
              "      <th>4</th>\n",
              "      <td>896</td>\n",
              "      <td>1</td>\n",
              "      <td>1</td>\n",
              "    </tr>\n",
              "    <tr>\n",
              "      <th>...</th>\n",
              "      <td>...</td>\n",
              "      <td>...</td>\n",
              "      <td>...</td>\n",
              "    </tr>\n",
              "    <tr>\n",
              "      <th>413</th>\n",
              "      <td>1305</td>\n",
              "      <td>0</td>\n",
              "      <td>0</td>\n",
              "    </tr>\n",
              "    <tr>\n",
              "      <th>414</th>\n",
              "      <td>1306</td>\n",
              "      <td>1</td>\n",
              "      <td>1</td>\n",
              "    </tr>\n",
              "    <tr>\n",
              "      <th>415</th>\n",
              "      <td>1307</td>\n",
              "      <td>0</td>\n",
              "      <td>0</td>\n",
              "    </tr>\n",
              "    <tr>\n",
              "      <th>416</th>\n",
              "      <td>1308</td>\n",
              "      <td>0</td>\n",
              "      <td>0</td>\n",
              "    </tr>\n",
              "    <tr>\n",
              "      <th>417</th>\n",
              "      <td>1309</td>\n",
              "      <td>0</td>\n",
              "      <td>0</td>\n",
              "    </tr>\n",
              "  </tbody>\n",
              "</table>\n",
              "<p>418 rows × 3 columns</p>\n",
              "</div>"
            ],
            "text/plain": [
              "     passengerId  previsao  original\n",
              "0            892         0         0\n",
              "1            893         1         1\n",
              "2            894         0         0\n",
              "3            895         0         0\n",
              "4            896         1         1\n",
              "..           ...       ...       ...\n",
              "413         1305         0         0\n",
              "414         1306         1         1\n",
              "415         1307         0         0\n",
              "416         1308         0         0\n",
              "417         1309         0         0\n",
              "\n",
              "[418 rows x 3 columns]"
            ]
          },
          "metadata": {
            "tags": []
          },
          "execution_count": 126
        }
      ]
    },
    {
      "cell_type": "code",
      "metadata": {
        "id": "iP6Ak_Y7wIA4",
        "colab_type": "code",
        "colab": {}
      },
      "source": [
        "submission.to_csv('./submission_lr.csv', index=False)"
      ],
      "execution_count": 127,
      "outputs": []
    }
  ]
}